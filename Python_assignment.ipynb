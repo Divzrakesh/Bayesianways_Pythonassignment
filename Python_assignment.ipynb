{
 "cells": [
  {
   "cell_type": "markdown",
   "id": "c7c84936",
   "metadata": {},
   "source": [
    "1. Check if the given string is a palindrome or not irrespective of case"
   ]
  },
  {
   "cell_type": "code",
   "execution_count": 7,
   "id": "bbffefdb",
   "metadata": {},
   "outputs": [
    {
     "name": "stdout",
     "output_type": "stream",
     "text": [
      "True\n",
      "False\n"
     ]
    }
   ],
   "source": [
    "def is_palindrome(str):\n",
    "    org_string = str.lower()\n",
    "    rev_string = org_string[::-1]\n",
    "    return org_string == rev_string\n",
    "\n",
    "print(is_palindrome(\"madam\"))\n",
    "print(is_palindrome(\"welcome\")) "
   ]
  },
  {
   "cell_type": "markdown",
   "id": "deee21fb",
   "metadata": {},
   "source": [
    "2. The user enters a string and a substring. You have to print the number of times that the substring occurs in the given string. String traversal will take place from left to right, not from right to left."
   ]
  },
  {
   "cell_type": "code",
   "execution_count": 11,
   "id": "717d7ec0",
   "metadata": {},
   "outputs": [
    {
     "name": "stdout",
     "output_type": "stream",
     "text": [
      "2\n"
     ]
    }
   ],
   "source": [
    "def count_substring(string, sub_string):\n",
    "    return string.count(sub_string)\n",
    "\n",
    "print(count_substring(\"malayalam\", \"la\")) "
   ]
  },
  {
   "cell_type": "markdown",
   "id": "ad02f340",
   "metadata": {},
   "source": [
    "3. Create a basic rock paper scissors game. \n",
    "Take 2 user inputs from 2 players. You can use R, P and S are possible user inputs. Play the game \n",
    "for 10 rounds and declare the winner.\n",
    "Rules of the game \n",
    "Rock vs Scissors - Rock wins \n",
    "Rock vs Paper - Paper wins\n",
    "Paper vs Scissors - Scissor wins"
   ]
  },
  {
   "cell_type": "code",
   "execution_count": 12,
   "id": "947ee2f1",
   "metadata": {},
   "outputs": [
    {
     "name": "stdout",
     "output_type": "stream",
     "text": [
      "Player 1: Rock (R), Paper (P), or Scissors (S)? S\n",
      "Player 2: Rock (R), Paper (P), or Scissors (S)? P\n",
      "Player 1 wins!\n",
      "Player 1: Rock (R), Paper (P), or Scissors (S)? R\n",
      "Player 2: Rock (R), Paper (P), or Scissors (S)? P\n",
      "Player 2 wins!\n",
      "Player 1: Rock (R), Paper (P), or Scissors (S)? R\n",
      "Player 2: Rock (R), Paper (P), or Scissors (S)? P\n",
      "Player 2 wins!\n",
      "Player 1: Rock (R), Paper (P), or Scissors (S)? S\n",
      "Player 2: Rock (R), Paper (P), or Scissors (S)? R\n",
      "Player 2 wins!\n",
      "Player 1: Rock (R), Paper (P), or Scissors (S)? P\n",
      "Player 2: Rock (R), Paper (P), or Scissors (S)? R\n",
      "Player 1 wins!\n",
      "Player 1: Rock (R), Paper (P), or Scissors (S)? R\n",
      "Player 2: Rock (R), Paper (P), or Scissors (S)? S\n",
      "Player 1 wins!\n",
      "Player 1: Rock (R), Paper (P), or Scissors (S)? R\n",
      "Player 2: Rock (R), Paper (P), or Scissors (S)? P\n",
      "Player 2 wins!\n",
      "Player 1: Rock (R), Paper (P), or Scissors (S)? P\n",
      "Player 2: Rock (R), Paper (P), or Scissors (S)? S\n",
      "Player 2 wins!\n",
      "Player 1: Rock (R), Paper (P), or Scissors (S)? S\n",
      "Player 2: Rock (R), Paper (P), or Scissors (S)? R\n",
      "Player 2 wins!\n",
      "Player 1: Rock (R), Paper (P), or Scissors (S)? S\n",
      "Player 2: Rock (R), Paper (P), or Scissors (S)? R\n",
      "Player 2 wins!\n",
      "Player 2 wins the game!\n"
     ]
    }
   ],
   "source": [
    "def rock_paper_scissors():\n",
    "    player1_score = 0\n",
    "    player2_score = 0\n",
    "    for i in range(10):\n",
    "        player1 = input(\"Player 1: Rock (R), Paper (P), or Scissors (S)? \").upper()\n",
    "        player2 = input(\"Player 2: Rock (R), Paper (P), or Scissors (S)? \").upper()\n",
    "        if player1 == player2:\n",
    "            print(\"Tie!\")\n",
    "        elif player1 == \"R\" and player2 == \"S\":\n",
    "            print(\"Player 1 wins!\")\n",
    "            player1_score += 1\n",
    "        elif player1 == \"R\" and player2 == \"P\":\n",
    "            print(\"Player 2 wins!\")\n",
    "            player2_score += 1\n",
    "        elif player1 == \"P\" and player2 == \"R\":\n",
    "            print(\"Player 1 wins!\")\n",
    "            player1_score += 1\n",
    "        elif player1 == \"P\" and player2 == \"S\":\n",
    "            print(\"Player 2 wins!\")\n",
    "            player2_score += 1\n",
    "        elif player1 == \"S\" and player2 == \"P\":\n",
    "            print(\"Player 1 wins!\")\n",
    "            player1_score += 1\n",
    "        elif player1 == \"S\" and player2 == \"R\":\n",
    "            print(\"Player 2 wins!\")\n",
    "            player2_score += 1\n",
    "    if player1_score > player2_score:\n",
    "        print(\"Player 1 wins the game!\")\n",
    "    elif player1_score < player2_score:\n",
    "        print(\"Player 2 wins the game!\")\n",
    "    else:\n",
    "        print(\"It's a tie!\")\n",
    "\n",
    "rock_paper_scissors()\n"
   ]
  },
  {
   "cell_type": "markdown",
   "id": "f530e613",
   "metadata": {},
   "source": [
    "4. The below API print the price of Bitcoin in USD and GBP \n",
    "https://api.coindesk.com/v1/bpi/currentprice.json\n",
    "• Collect data from this API for 1 day at 5 minutes interval. I.e you will have at least \n",
    "288 unique data points. Consecutive data points should not have same value.\n",
    "• Find the highest and lowest price of bitcoin from the collected data, without using minimum \n",
    "or maximum functions"
   ]
  },
  {
   "cell_type": "code",
   "execution_count": 1,
   "id": "ee53844d",
   "metadata": {},
   "outputs": [
    {
     "name": "stdout",
     "output_type": "stream",
     "text": [
      "{'time': {'updated': 'Jan 16, 2023 15:24:00 UTC', 'updatedISO': '2023-01-16T15:24:00+00:00', 'updateduk': 'Jan 16, 2023 at 15:24 GMT'}, 'disclaimer': 'This data was produced from the CoinDesk Bitcoin Price Index (USD). Non-USD currency data converted using hourly conversion rate from openexchangerates.org', 'chartName': 'Bitcoin', 'bpi': {'USD': {'code': 'USD', 'symbol': '&#36;', 'rate': '20,889.9793', 'description': 'United States Dollar', 'rate_float': 20889.9793}, 'GBP': {'code': 'GBP', 'symbol': '&pound;', 'rate': '17,455.4996', 'description': 'British Pound Sterling', 'rate_float': 17455.4996}, 'EUR': {'code': 'EUR', 'symbol': '&euro;', 'rate': '20,349.8898', 'description': 'Euro', 'rate_float': 20349.8898}}}\n"
     ]
    }
   ],
   "source": [
    "import requests\n",
    "import time\n",
    "\n",
    "price = []\n",
    "\n",
    "for i in range(288):\n",
    "    response = requests.get(\"https://api.coindesk.com/v1/bpi/currentprice.json\")\n",
    "    data = response.json()\n",
    "    usd_price = data[\"bpi\"][\"USD\"][\"rate_float\"]\n",
    "    gbp_price = data[\"bpi\"][\"GBP\"][\"rate_float\"]\n",
    "    price.append((usd_price, gbp_price))\n",
    "    \n",
    "\n",
    "print(data)"
   ]
  }
 ],
 "metadata": {
  "kernelspec": {
   "display_name": "Python 3 (ipykernel)",
   "language": "python",
   "name": "python3"
  },
  "language_info": {
   "codemirror_mode": {
    "name": "ipython",
    "version": 3
   },
   "file_extension": ".py",
   "mimetype": "text/x-python",
   "name": "python",
   "nbconvert_exporter": "python",
   "pygments_lexer": "ipython3",
   "version": "3.9.7"
  }
 },
 "nbformat": 4,
 "nbformat_minor": 5
}
